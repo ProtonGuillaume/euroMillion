{
 "cells": [
  {
   "cell_type": "code",
   "execution_count": 5,
   "metadata": {},
   "outputs": [],
   "source": [
    "\n",
    "import pandas as pd\n",
    "import numpy as np\n",
    "from sklearn import svm\n",
    "from sklearn import model_selection\n",
    "from sklearn.linear_model import LogisticRegression\n",
    "from sklearn import metrics\n",
    "from sklearn.ensemble import RandomForestRegressor\n",
    "from sklearn.ensemble import RandomForestClassifier\n",
    "import matplotlib.pyplot as plt\n",
    "import numpy as np"
   ]
  },
  {
   "cell_type": "code",
   "execution_count": 6,
   "metadata": {},
   "outputs": [],
   "source": [
    "data = pd.read_csv(\"EuroMillions_numbers.csv\", sep=\";\")"
   ]
  },
  {
   "cell_type": "code",
   "execution_count": 7,
   "metadata": {},
   "outputs": [
    {
     "data": {
      "text/plain": [
       "6586"
      ]
     },
     "execution_count": 7,
     "metadata": {},
     "output_type": "execute_result"
    }
   ],
   "source": [
    "y = np.where(data[\"Winner\"]>=1, 1, 0)\n",
    "y=list(y)\n",
    "\n",
    "for i in range(5268):\n",
    "    y.append(0)\n",
    "len(y)"
   ]
  },
  {
   "cell_type": "code",
   "execution_count": 8,
   "metadata": {},
   "outputs": [],
   "source": [
    "def random_tirage():\n",
    "    tirage = []\n",
    "    arr50 = np.arange(1,51)\n",
    "    arr50 = list(arr50)\n",
    "    arr12 = np.arange(1,13)\n",
    "    arr12 = list(arr12)\n",
    "    for _ in range(5):\n",
    "        idx = np.random.randint(len(arr50))\n",
    "        tirage.append(arr50[idx])\n",
    "        arr50.pop(idx)\n",
    "\n",
    "    for _ in range(2):\n",
    "        idx = np.random.randint(len(arr12))\n",
    "        tirage.append(arr12[idx])\n",
    "        arr12.pop(idx)\n",
    "    return tirage"
   ]
  },
  {
   "cell_type": "code",
   "execution_count": 9,
   "metadata": {},
   "outputs": [],
   "source": [
    "x = [[data[\"N1\"][i], data[\"N2\"][i], data[\"N3\"][i], data[\"N4\"][i], data[\"N5\"][i], data[\"E1\"][i], data[\"E2\"][i]] for i in range(data.shape[0])]\n",
    "\n",
    "# 1317 * 4 = 5268\n",
    "for i in range(5268):\n",
    "    x.append(random_tirage())"
   ]
  },
  {
   "cell_type": "code",
   "execution_count": 11,
   "metadata": {},
   "outputs": [
    {
     "name": "stdout",
     "output_type": "stream",
     "text": [
      "4939 1647 4939 1647\n"
     ]
    }
   ],
   "source": [
    "x_train,x_test,y_train,y_test = model_selection.train_test_split(x,y,test_size = 0.25,random_state=0)\n",
    "print(len(x_train), len(x_test), len(y_train), len(y_test))"
   ]
  },
  {
   "cell_type": "code",
   "execution_count": 12,
   "metadata": {},
   "outputs": [
    {
     "name": "stdout",
     "output_type": "stream",
     "text": [
      "[[1555    0]\n",
      " [  92    0]]\n",
      "0.944140862173649\n"
     ]
    }
   ],
   "source": [
    "mvs = svm.SVC()\n",
    "modele2 = mvs.fit(x_train,y_train)\n",
    "y_pred2 = modele2.predict(x_test)\n",
    "\n",
    "print(metrics.confusion_matrix(y_test,y_pred2))\n",
    "print(metrics.accuracy_score(y_test,y_pred2))"
   ]
  }
 ],
 "metadata": {
  "interpreter": {
   "hash": "da8ce84a2f1cf2b518824e9e641c7e96770353c908917d185a8865d309c4def4"
  },
  "kernelspec": {
   "display_name": "Python 3.8.0 64-bit ('python3_env': venv)",
   "language": "python",
   "name": "python3"
  },
  "language_info": {
   "codemirror_mode": {
    "name": "ipython",
    "version": 3
   },
   "file_extension": ".py",
   "mimetype": "text/x-python",
   "name": "python",
   "nbconvert_exporter": "python",
   "pygments_lexer": "ipython3",
   "version": "3.8.0"
  },
  "orig_nbformat": 4
 },
 "nbformat": 4,
 "nbformat_minor": 2
}
